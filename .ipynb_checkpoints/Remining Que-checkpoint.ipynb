{
 "cells": [
  {
   "cell_type": "code",
   "execution_count": 16,
   "id": "f8cbaef7-ceca-4a68-9d04-d5e34d214a0c",
   "metadata": {},
   "outputs": [
    {
     "name": "stdin",
     "output_type": "stream",
     "text": [
      "Input a number which you want to print sum :  25\n"
     ]
    },
    {
     "name": "stdout",
     "output_type": "stream",
     "text": [
      "Sum = 325\n"
     ]
    }
   ],
   "source": [
    "# sum of 1 to n natural number :\n",
    "\n",
    "no = int(input(\"Input a number which you want to print sum : \"))\n",
    "sum = 0\n",
    "\n",
    "while no >=0:\n",
    "    sum = sum + no\n",
    "    no = no - 1\n",
    "print(f\"Sum = {sum}\")"
   ]
  },
  {
   "cell_type": "code",
   "execution_count": null,
   "id": "f2533851-872f-446a-9dd6-536041b44f4e",
   "metadata": {},
   "outputs": [],
   "source": [
    "# prime number 1 to 100\n",
    "\n",
    "no = 100\n"
   ]
  }
 ],
 "metadata": {
  "kernelspec": {
   "display_name": "Python 3 (ipykernel)",
   "language": "python",
   "name": "python3"
  },
  "language_info": {
   "codemirror_mode": {
    "name": "ipython",
    "version": 3
   },
   "file_extension": ".py",
   "mimetype": "text/x-python",
   "name": "python",
   "nbconvert_exporter": "python",
   "pygments_lexer": "ipython3",
   "version": "3.12.7"
  }
 },
 "nbformat": 4,
 "nbformat_minor": 5
}
