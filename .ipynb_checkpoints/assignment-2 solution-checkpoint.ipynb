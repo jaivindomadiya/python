{
 "cells": [
  {
   "cell_type": "markdown",
   "id": "d7626de5-6ce1-4318-bdc8-e05944fdf261",
   "metadata": {},
   "source": [
    "<h3>Write a program that prints all the numbers from 1 to 10 using a while loop.</h3>"
   ]
  },
  {
   "cell_type": "code",
   "execution_count": 5,
   "id": "cc8bed89-ea44-4df4-abb6-3e40caf547fc",
   "metadata": {},
   "outputs": [
    {
     "name": "stdout",
     "output_type": "stream",
     "text": [
      "1\n",
      "2\n",
      "3\n",
      "4\n",
      "5\n",
      "6\n",
      "7\n",
      "8\n",
      "9\n",
      "10\n"
     ]
    }
   ],
   "source": [
    "no = 1\n",
    "while(no <= 10):\n",
    "    print(no)\n",
    "    no = no+1\n"
   ]
  },
  {
   "cell_type": "markdown",
   "id": "651ac9ed-02e8-44ba-b8e2-a2023589c50c",
   "metadata": {},
   "source": [
    "<h3>Write a program that prints a 5x5 grid of asterisks (*) using nested loops.</h3>"
   ]
  },
  {
   "cell_type": "code",
   "execution_count": 9,
   "id": "a6b81bb8-cfdc-4e9b-9578-b38fce466bf5",
   "metadata": {},
   "outputs": [
    {
     "name": "stdout",
     "output_type": "stream",
     "text": [
      "* * * * * \n",
      "* * * * * \n",
      "* * * * * \n",
      "* * * * * \n",
      "* * * * * \n"
     ]
    }
   ],
   "source": [
    "# *****\n",
    "# *****\n",
    "# *****\n",
    "# *****\n",
    "# *****\n",
    "\n",
    "for i in range(1,6):\n",
    "    for j in range(1,6):\n",
    "        print(\"* \",end=\"\")\n",
    "    print()\n",
    "    \n",
    "    "
   ]
  },
  {
   "cell_type": "markdown",
   "id": "8e63ed75-3bed-491f-9fe3-7cbca49f9103",
   "metadata": {},
   "source": [
    "<h3>Write a program that asks the user to input numbers until they input 0. The program should print the sum of all the input numbers.</h3>"
   ]
  },
  {
   "cell_type": "code",
   "execution_count": 12,
   "id": "f4c71f6f-a137-41bd-a1da-33d71a24d032",
   "metadata": {},
   "outputs": [
    {
     "name": "stdin",
     "output_type": "stream",
     "text": [
      "Enter Number :  10\n",
      "Enter Number :  10\n",
      "Enter Number :  10\n",
      "Enter Number :  10\n",
      "Enter Number :  10\n",
      "Enter Number :  10\n",
      "Enter Number :  0\n"
     ]
    },
    {
     "name": "stdout",
     "output_type": "stream",
     "text": [
      "total of all numbers is 60\n"
     ]
    }
   ],
   "source": [
    "sum = 0\n",
    "no = 1\n",
    "while no!=0:\n",
    "    no = int(input(\"Enter Number : \"))\n",
    "    sum = sum + no\n",
    "print(f\"total of all numbers is {sum}\")"
   ]
  },
  {
   "cell_type": "markdown",
   "id": "3c834e99-f454-4c8b-9a56-1d240ec7eb69",
   "metadata": {},
   "source": [
    "<h3>Write a program that prints all the numbers from 1 to 10 except 5 using a for loop and continue statement.</h3>"
   ]
  },
  {
   "cell_type": "code",
   "execution_count": 14,
   "id": "cd6b9995-ab0e-469a-a21c-745676ff09ff",
   "metadata": {},
   "outputs": [
    {
     "name": "stdout",
     "output_type": "stream",
     "text": [
      "1\n",
      "2\n",
      "3\n",
      "4\n",
      "6\n",
      "7\n",
      "8\n",
      "9\n",
      "10\n"
     ]
    }
   ],
   "source": [
    "for i in range(1,11):\n",
    "    if i==5:\n",
    "        continue\n",
    "    else:\n",
    "        print(i)"
   ]
  },
  {
   "cell_type": "markdown",
   "id": "2baac852-7384-4390-a67e-61d468567da1",
   "metadata": {},
   "source": [
    "<h3>Write a program that asks the user to input a number and prints all the even numbers from 1 to that number using a for loop.</h3>"
   ]
  },
  {
   "cell_type": "code",
   "execution_count": 19,
   "id": "0e2d0ec9-e1f5-44d1-af48-b33be135ce56",
   "metadata": {},
   "outputs": [
    {
     "name": "stdin",
     "output_type": "stream",
     "text": [
      "Enter No :  19\n"
     ]
    },
    {
     "name": "stdout",
     "output_type": "stream",
     "text": [
      "2\n",
      "4\n",
      "6\n",
      "8\n",
      "10\n",
      "12\n",
      "14\n",
      "16\n",
      "18\n"
     ]
    }
   ],
   "source": [
    "no = int(input(\"Enter No : \"))\n",
    "for i in range(2,no+1,2):\n",
    "    print(i)"
   ]
  },
  {
   "cell_type": "markdown",
   "id": "575952f3-ed1b-4f9d-9043-b5506559fcdd",
   "metadata": {},
   "source": [
    "<h3>Write a program that calculates the factorial of a number input by the user using a while loop.</h3>"
   ]
  },
  {
   "cell_type": "code",
   "execution_count": 20,
   "id": "8022ab14-96a9-41d1-bc35-bb3f67828789",
   "metadata": {},
   "outputs": [
    {
     "name": "stdin",
     "output_type": "stream",
     "text": [
      "Enter Number : 5\n"
     ]
    },
    {
     "name": "stdout",
     "output_type": "stream",
     "text": [
      "120\n"
     ]
    }
   ],
   "source": [
    "fact=1\n",
    "no = int(input(\"Enter Number :\"))\n",
    "while(no>=1):\n",
    "    fact = fact * no\n",
    "    no = no-1\n",
    "print(fact)"
   ]
  },
  {
   "cell_type": "markdown",
   "id": "de3397a4-5ed5-45c7-8b74-e012c5021c01",
   "metadata": {},
   "source": [
    "<h3>Write a program that calculates the sum of the digits of a number input by the user using a while loop.</h3>"
   ]
  },
  {
   "cell_type": "code",
   "execution_count": 3,
   "id": "4c45c2d3-0e96-4a40-99fe-df4dcc561358",
   "metadata": {},
   "outputs": [
    {
     "name": "stdin",
     "output_type": "stream",
     "text": [
      "Enter Number : 56\n"
     ]
    },
    {
     "name": "stdout",
     "output_type": "stream",
     "text": [
      "11\n"
     ]
    }
   ],
   "source": [
    "no = int(input(\"Enter Number :\"))\n",
    "sum = 0\n",
    "\n",
    "while(no!=0):\n",
    "    a = int(no%10)\n",
    "    sum = sum + a\n",
    "    no = no/10\n",
    "\n",
    "print(sum)\n",
    "    "
   ]
  },
  {
   "cell_type": "markdown",
   "id": "588e68c8-58cd-4ec6-a657-db984081fa97",
   "metadata": {},
   "source": [
    "<h3>Reverse Number</h3>"
   ]
  },
  {
   "cell_type": "code",
   "execution_count": 7,
   "id": "60f9777d-abb4-45c5-954a-18b453eba211",
   "metadata": {},
   "outputs": [
    {
     "name": "stdin",
     "output_type": "stream",
     "text": [
      "Enter Number :  25\n"
     ]
    },
    {
     "name": "stdout",
     "output_type": "stream",
     "text": [
      "52\n"
     ]
    }
   ],
   "source": [
    "no = int(input(\"Enter Number : \"))\n",
    "rev = 0\n",
    "while(no!=0):\n",
    "    s = no%10\n",
    "    rev = rev*10 + s\n",
    "    no = no//10\n",
    "\n",
    "print(rev)"
   ]
  },
  {
   "cell_type": "markdown",
   "id": "f8804aa1-21f9-47c8-8016-3939f1dc2802",
   "metadata": {},
   "source": [
    "<h3>Write a program that checks if a number input by the user is a prime number using a for loop.</h3>"
   ]
  },
  {
   "cell_type": "code",
   "execution_count": 20,
   "id": "556758c9-bd6b-4529-8083-1a8976540aea",
   "metadata": {},
   "outputs": [
    {
     "name": "stdin",
     "output_type": "stream",
     "text": [
      "Enter Number 7\n"
     ]
    },
    {
     "name": "stdout",
     "output_type": "stream",
     "text": [
      "Prime Number. . . \n"
     ]
    }
   ],
   "source": [
    "no = int(input(\"Enter Number\"))\n",
    "flag = 0\n",
    "for i in range(2,no-1):\n",
    "    if no%i == 0:\n",
    "        flag = 1\n",
    "if flag == 0:\n",
    "    print(\"Prime Number. . . \")\n",
    "else:\n",
    "    print(\"Not prime\")"
   ]
  },
  {
   "cell_type": "markdown",
   "id": "607fd340-2c26-44df-bbde-d300e3f3d6c7",
   "metadata": {},
   "source": [
    "<h3>Write a program that prints the first n Fibonacci numbers, where n is input by the user.</h3>"
   ]
  },
  {
   "cell_type": "code",
   "execution_count": 29,
   "id": "a2ccc8d3-f4e4-493d-85f1-d7f1e259c9d4",
   "metadata": {},
   "outputs": [
    {
     "name": "stdin",
     "output_type": "stream",
     "text": [
      "Enter Number : 10\n"
     ]
    },
    {
     "name": "stdout",
     "output_type": "stream",
     "text": [
      "0 \n",
      "1\n",
      "1\n",
      "2\n",
      "3\n",
      "5\n",
      "8\n",
      "13\n",
      "21\n",
      "34\n"
     ]
    }
   ],
   "source": [
    "no = int(input(\"Enter Number :\"))\n",
    "\n",
    "no1 = 0\n",
    "no2 = 1\n",
    "print(f\"{no1} \\n{no2}\")\n",
    "\n",
    "for i in range(1,no-1):\n",
    "    fibo = no1 + no2\n",
    "    print(fibo)\n",
    "    \n",
    "    no1 = no2\n",
    "    no2 = fibo\n"
   ]
  },
  {
   "cell_type": "code",
   "execution_count": null,
   "id": "6097ad25-8b10-40b5-856a-e09223ef6fa3",
   "metadata": {},
   "outputs": [],
   "source": []
  }
 ],
 "metadata": {
  "kernelspec": {
   "display_name": "Python 3 (ipykernel)",
   "language": "python",
   "name": "python3"
  },
  "language_info": {
   "codemirror_mode": {
    "name": "ipython",
    "version": 3
   },
   "file_extension": ".py",
   "mimetype": "text/x-python",
   "name": "python",
   "nbconvert_exporter": "python",
   "pygments_lexer": "ipython3",
   "version": "3.12.7"
  }
 },
 "nbformat": 4,
 "nbformat_minor": 5
}
