{
 "cells": [
  {
   "cell_type": "code",
   "execution_count": 16,
   "id": "f8cbaef7-ceca-4a68-9d04-d5e34d214a0c",
   "metadata": {},
   "outputs": [
    {
     "name": "stdin",
     "output_type": "stream",
     "text": [
      "Input a number which you want to print sum :  25\n"
     ]
    },
    {
     "name": "stdout",
     "output_type": "stream",
     "text": [
      "Sum = 325\n"
     ]
    }
   ],
   "source": [
    "# sum of 1 to n natural number :\n",
    "\n",
    "no = int(input(\"Input a number which you want to print sum : \"))\n",
    "sum = 0\n",
    "\n",
    "while no >=0:\n",
    "    sum = sum + no\n",
    "    no = no - 1\n",
    "print(f\"Sum = {sum}\")"
   ]
  },
  {
   "cell_type": "code",
   "execution_count": 29,
   "id": "f2533851-872f-446a-9dd6-536041b44f4e",
   "metadata": {},
   "outputs": [
    {
     "name": "stdout",
     "output_type": "stream",
     "text": [
      "[2, 3, 5, 7, 11, 13, 17, 19, 23, 29, 31, 37, 41, 43, 47, 53, 59, 61, 67, 71, 73, 79, 83, 89, 97]\n"
     ]
    }
   ],
   "source": [
    "# prime number 1 to 100\n",
    "\n",
    "no = 100\n",
    "lst = []\n",
    "\n",
    "for i in range(2,100):\n",
    "    flag = 0\n",
    "    for j in range(2,i):\n",
    "        if i%j==0:\n",
    "            flag = 1\n",
    "                \n",
    "    if flag == 0:\n",
    "            lst.append(i)\n",
    "print(lst)"
   ]
  },
  {
   "cell_type": "markdown",
   "id": "2728bb28-d80b-4c83-acd8-e17a97a0a5cc",
   "metadata": {},
   "source": [
    "<h4>A1 - Write a Python program to check if a year is a leap year.</h4>"
   ]
  },
  {
   "cell_type": "code",
   "execution_count": null,
   "id": "9800f214-555b-4ac0-919e-6ae4600e2b88",
   "metadata": {},
   "outputs": [],
   "source": []
  },
  {
   "cell_type": "markdown",
   "id": "70ffadbd-0ebe-4fa8-a600-5cb2598b39e1",
   "metadata": {},
   "source": [
    "<h4>A1 - Write a Python program to reverse a string.</h4>"
   ]
  },
  {
   "cell_type": "code",
   "execution_count": null,
   "id": "18a7de32-4a95-4f51-be4c-e7f6698a552f",
   "metadata": {},
   "outputs": [],
   "source": []
  },
  {
   "cell_type": "markdown",
   "id": "4776bb26-fa4e-4c04-a96d-ee2e2b9c54d7",
   "metadata": {},
   "source": [
    "<h4>A1 - Write a Python program to check if a string is a palindrome.</h4>"
   ]
  },
  {
   "cell_type": "code",
   "execution_count": null,
   "id": "da629fdc-2b8d-49dc-bfb6-63735dd0e3c9",
   "metadata": {},
   "outputs": [],
   "source": []
  },
  {
   "cell_type": "markdown",
   "id": "ca772d04-a166-4773-a55b-41360f074fbb",
   "metadata": {},
   "source": [
    "<h4>A1 - Write a Python program to sort a list of numbers in ascending order.\n",
    "</h4>"
   ]
  },
  {
   "cell_type": "code",
   "execution_count": null,
   "id": "8f666308-ade9-4a68-bbd0-cd07bdf824c1",
   "metadata": {},
   "outputs": [],
   "source": []
  },
  {
   "cell_type": "code",
   "execution_count": null,
   "id": "08509a18-66ed-497f-8986-744fddae3826",
   "metadata": {},
   "outputs": [],
   "source": []
  }
 ],
 "metadata": {
  "kernelspec": {
   "display_name": "Python 3 (ipykernel)",
   "language": "python",
   "name": "python3"
  },
  "language_info": {
   "codemirror_mode": {
    "name": "ipython",
    "version": 3
   },
   "file_extension": ".py",
   "mimetype": "text/x-python",
   "name": "python",
   "nbconvert_exporter": "python",
   "pygments_lexer": "ipython3",
   "version": "3.12.7"
  }
 },
 "nbformat": 4,
 "nbformat_minor": 5
}
